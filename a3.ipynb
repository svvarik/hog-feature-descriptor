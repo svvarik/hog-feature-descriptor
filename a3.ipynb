{
 "cells": [
  {
   "cell_type": "code",
   "execution_count": 72,
   "metadata": {},
   "outputs": [],
   "source": [
    "import os\n",
    "import numpy as np\n",
    "import cv2\n",
    "import matplotlib.pyplot as plt\n",
    "%matplotlib inline"
   ]
  },
  {
   "attachments": {},
   "cell_type": "markdown",
   "metadata": {},
   "source": [
    "## Question 3\n"
   ]
  },
  {
   "cell_type": "code",
   "execution_count": 60,
   "metadata": {},
   "outputs": [],
   "source": [
    "img1_gray = cv2.imread('./image1.png', cv2.IMREAD_GRAYSCALE) # READS IN NUMPY ARRAY\n",
    "# img1 = cv2.cvtColor(img1, cv2.COLOR_BGR2RGB)\n",
    "# img1_gray = cv2.cvtColor(img1, cv2.COLOR_RGB2GRAY)\n",
    "\n",
    "img2_gray = cv2.imread('./image2.png', cv2.IMREAD_GRAYSCALE) # READS IN NUMPY ARRAY\n",
    "# img2 = cv2.cvtColor(img2, cv2.COLOR_BGR2RGB)\n",
    "# img2_gray = cv2.cvtColor(img2, cv2.COLOR_RGB2GRAY)\n",
    "\n",
    "output = os.path.join(os.path.dirname(os.path.abspath('__file__')), 'output')\n",
    "if not os.path.isdir(output):\n",
    "    os.makedirs(output)\n"
   ]
  },
  {
   "cell_type": "markdown",
   "metadata": {},
   "source": [
    "### Step 1"
   ]
  },
  {
   "cell_type": "code",
   "execution_count": 62,
   "metadata": {},
   "outputs": [
    {
     "name": "stdout",
     "output_type": "stream",
     "text": [
      "(321, 481)\n"
     ]
    }
   ],
   "source": [
    "def compute_gradient_mag_direction(img, threshold):\n",
    "    grad_x = cv2.Sobel(img, cv2.CV_64F, 1, 0, ksize=3)\n",
    "    grad_y = cv2.Sobel(img, cv2.CV_64F, 0, 1, ksize=3)\n",
    "\n",
    "    # magnitude\n",
    "    magnitude = cv2.magnitude(grad_x, grad_y)\n",
    "    magnitude[magnitude < threshold] = 0\n",
    "    \n",
    "    # direction\n",
    "    radians = np.arctan2(grad_y, grad_x)\n",
    "    radians[radians < 0] += np.pi\n",
    "    direction = np.degrees(radians)\n",
    "\n",
    "    return magnitude, direction\n",
    "\n",
    "img1_gradient_mag, img1_direction = compute_gradient_mag_direction(img1_gray, 0.01)\n",
    "img2_gradient_mag, img2_direction = compute_gradient_mag_direction(img2_gray, 0.01)\n"
   ]
  },
  {
   "attachments": {},
   "cell_type": "markdown",
   "metadata": {},
   "source": [
    "### Step 2 & 3"
   ]
  },
  {
   "cell_type": "code",
   "execution_count": 92,
   "metadata": {},
   "outputs": [],
   "source": [
    "def array_cell_grid(size: int, array: np.ndarray) -> np.ndarray:\n",
    "    height, width = array.shape\n",
    "    m, n = height // size, width // size\n",
    "    result = array.copy()\n",
    "    \n",
    "    crop_height = height - (m * size)\n",
    "    crop_width = width - (n * size)\n",
    "\n",
    "    # Center the grid\n",
    "    if crop_height > 0:\n",
    "        if crop_height % 2 == 0:\n",
    "            crop = int(crop_height / 2)\n",
    "            result = result[0+crop: -crop, :]\n",
    "        else:\n",
    "            result = result[1+crop: -crop,\n",
    "                            :] if crop_height // 2 > 0 else result[1:, :]\n",
    "\n",
    "    if crop_width > 0:\n",
    "        if crop_width % 2 == 0:\n",
    "            crop = int(crop_width / 2)\n",
    "            result = result[:, 0+crop: -crop]\n",
    "        else:\n",
    "            result = result[:, 1+crop: -\n",
    "                            crop] if crop_width // 2 > 0 else result[:, 1:]\n",
    "\n",
    "    return m, n, result\n",
    "\n",
    "\n",
    "def orientation_histogram(gradient_mag: np.ndarray, gradient_direction: np.ndarray,\n",
    "                          size: int) -> np.ndarray:\n",
    "\n",
    "    direction = gradient_direction.copy()\n",
    "    direction += 15\n",
    "    direction[direction >= 180] -= 180\n",
    "\n",
    "    m, n, gm_cropped = array_cell_grid(size, gradient_mag)\n",
    "\n",
    "    mag_output = np.zeros((m, n, 6))\n",
    "    occ_output = np.zeros((m, n, 6))\n",
    "\n",
    "    i, j = 0, 0\n",
    "    r, c = 0, 0\n",
    "\n",
    "    for i in range(0, m):\n",
    "        for j in range(0, n):\n",
    "            bins_mag = [0, 0, 0, 0, 0, 0]\n",
    "            bins_occ = [0, 0, 0, 0, 0, 0]\n",
    "            for r in range(i * size, i * size + size):\n",
    "                for c in range(j * size, j * size + size):\n",
    "                    bin_index = int(direction[r, c] // 30)\n",
    "                    bins_mag[bin_index] += gm_cropped[r, c]\n",
    "                    bins_occ[bin_index] += 1\n",
    "\n",
    "            mag_output[i, j] = bins_mag\n",
    "            occ_output[i, j] = bins_occ\n",
    "    \n",
    "    return mag_output, occ_output\n",
    "\n",
    "\n",
    "\n",
    "# four histograms, two for each image\n",
    "img1_mag_histogram, img1_occ_histogram = orientation_histogram(\n",
    "    img1_gradient_mag, img1_direction, 8)\n",
    "img2_mag_histogram, img2_occ_histogram = orientation_histogram(\n",
    "    img2_gradient_mag, img2_direction, 8)\n"
   ]
  },
  {
   "attachments": {},
   "cell_type": "markdown",
   "metadata": {},
   "source": [
    "#### Quiver Plots\n"
   ]
  },
  {
   "cell_type": "code",
   "execution_count": 67,
   "metadata": {},
   "outputs": [],
   "source": [
    "def generate_quiver_values(histogram, bin, size):\n",
    "    x, y, u, v = [], [], [], []\n",
    "    m, n, _ = histogram.shape\n",
    "   \n",
    "    for i in range(m):\n",
    "        for j in range(n):\n",
    "                pad = size // 2\n",
    "                magnitude = histogram[i, j, bin] * 0.0000005\n",
    "                rad_angle = np.pi / 6 * bin # angle in center of bin\n",
    "\n",
    "                # location\n",
    "                x.append(j * size + pad)\n",
    "                y.append(i * size + pad)\n",
    "\n",
    "                # x, y components\n",
    "                u.append(magnitude * np.sin(rad_angle))\n",
    "                v.append(magnitude * np.cos(rad_angle))\n",
    "\n",
    "    return x, y, u, v\n"
   ]
  },
  {
   "attachments": {},
   "cell_type": "markdown",
   "metadata": {},
   "source": [
    "##### Image 1 Quiver Plots"
   ]
  },
  {
   "cell_type": "code",
   "execution_count": null,
   "metadata": {},
   "outputs": [],
   "source": [
    "fig, (ax1, ax2) = plt.subplots(1, 2, figsize=(30, 20))\n",
    "ax1.imshow(img1_gray, cmap='gray')\n",
    "ax2.imshow(img1_gray, cmap='gray')\n",
    "ax1.set_title(\"Image 1 Magnitude Histogram\")\n",
    "ax2.set_title(\"Image 1 Occurrence Histogram\")\n",
    "\n",
    "for k in range(6):\n",
    "    x, y, u, v = generate_quiver_values(img1_mag_histogram, k, 8)\n",
    "    x, y, u, v = generate_quiver_values(img1_occ_histogram, k, 8)\n",
    "    ax1.quiver(x, y, u, v, color=\"red\", width=0.0009)\n",
    "    ax2.quiver(x, y, u, v, color=\"red\", width=0.0009)\n",
    "\n",
    "plt.savefig(output + '/image1_histograms.png')\n",
    "plt.show()"
   ]
  },
  {
   "attachments": {},
   "cell_type": "markdown",
   "metadata": {},
   "source": [
    "##### Image 2 Quiver Plots"
   ]
  },
  {
   "cell_type": "code",
   "execution_count": null,
   "metadata": {},
   "outputs": [],
   "source": [
    "fig, (ax1, ax2) = plt.subplots(1, 2, figsize=(30, 20))\n",
    "ax1.imshow(img2_gray, cmap='gray')\n",
    "ax2.imshow(img2_gray, cmap='gray')\n",
    "ax1.set_title(\"Image 2 Magnitude Histogram\")\n",
    "ax2.set_title(\"Image 2 Orientation Histogram\")\n",
    "\n",
    "for k in range(6):\n",
    "    x, y, u, v = generate_quiver_values(img1_mag_histogram, k, 8)\n",
    "    x, y, u, v = generate_quiver_values(img1_occ_histogram, k, 8)\n",
    "    ax1.quiver(x, y, u, v, color=\"red\", width=0.0009)\n",
    "    ax2.quiver(x, y, u, v, color=\"red\", width=0.0009)\n",
    "\n",
    "plt.savefig(os.path.join(output, 'image2_histograms.png'))\n",
    "plt.show()"
   ]
  },
  {
   "attachments": {},
   "cell_type": "markdown",
   "metadata": {},
   "source": [
    "### Step 4: Normalization"
   ]
  },
  {
   "cell_type": "code",
   "execution_count": 66,
   "metadata": {},
   "outputs": [],
   "source": [
    "def normalize(array: np.ndarray):\n",
    "    e = 0.001\n",
    "    denominator = np.sqrt(np.sum(np.square(array)) + e)\n",
    "    return np.divide(array, denominator)\n",
    "\n",
    "def normalize_histogram(histogram: np.ndarray) -> np.ndarray:\n",
    "    block_size = 2\n",
    "    m, n, _ = histogram.shape\n",
    "    normalized_hist = np.zeros((m - 1, n - 1, 24))\n",
    "\n",
    "    for i in range(m - 1):\n",
    "        for j in range(n - 1):\n",
    "            descriptor = histogram[i:i + block_size, j:j + block_size, :].flatten()\n",
    "            normalized_hist[i][j] = normalize(descriptor)\n",
    "\n",
    "    return normalized_hist\n",
    "\n",
    "normalized_hist_img1 = normalize_histogram(img1_mag_histogram)\n",
    "normalized_hist_img2 = normalize_histogram(img2_mag_histogram)\n",
    "\n",
    "np.savetxt(output + '/image1.txt', normalized_hist_img1.reshape(normalized_hist_img1.shape[0], -1), fmt='%1.2f', delimiter=' ', newline='\\n')\n",
    "np.savetxt(output + '/image2.txt', normalized_hist_img2.reshape(normalized_hist_img2.shape[0], -1), fmt='%1.2f', delimiter=' ', newline='\\n')"
   ]
  },
  {
   "attachments": {},
   "cell_type": "markdown",
   "metadata": {},
   "source": [
    "#### Two Phone Images, W/ and W/O Flash"
   ]
  },
  {
   "cell_type": "code",
   "execution_count": 78,
   "metadata": {},
   "outputs": [],
   "source": [
    "img1 = cv2.imread('./flash.png') # READS IN NUMPY ARRAY\n",
    "img1 = cv2.cvtColor(img1, cv2.COLOR_BGR2RGB)\n",
    "img1_gray = cv2.cvtColor(img1, cv2.COLOR_RGB2GRAY)\n",
    "img1_downsized = cv2.resize(img1_gray, (0,0), fx=0.125, fy=0.125)\n",
    "\n",
    "img2 = cv2.imread('./no-flash.png') # READS IN NUMPY ARRAY\n",
    "img2 = cv2.cvtColor(img2, cv2.COLOR_BGR2RGB)\n",
    "img2_gray = cv2.cvtColor(img2, cv2.COLOR_RGB2GRAY)\n",
    "img2_downsized = cv2.resize(img2_gray, (0,0), fx=0.125, fy=0.125)"
   ]
  },
  {
   "attachments": {},
   "cell_type": "markdown",
   "metadata": {},
   "source": [
    "##### Computing HOG & Visualizing"
   ]
  },
  {
   "cell_type": "code",
   "execution_count": 93,
   "metadata": {},
   "outputs": [],
   "source": [
    "# Regular Size\n",
    "img1_gradient_mag, img1_direction = compute_gradient_mag_direction(img1_gray, 0.01)\n",
    "img2_gradient_mag, img2_direction = compute_gradient_mag_direction(img2_gray, 0.01)\n",
    "\n",
    "img1_mag_histogram, img1_occ_histogram = orientation_histogram(img1_gradient_mag, img1_direction, 8)\n",
    "img2_mag_histogram, img2_occ_histogram = orientation_histogram(img2_gradient_mag, img2_direction, 8)\n",
    "\n",
    "# downsized\n",
    "img1_downsized_gm, img1_downsized_dir = compute_gradient_mag_direction(img1_downsized, 0.01)\n",
    "img2_downsized_gm, img2_downsized_dir = compute_gradient_mag_direction(img2_downsized, 0.01)\n",
    "\n",
    "img1_downsized_mag_histogram, img1_downsized_occ_histogram = orientation_histogram(img1_downsized_gm, img1_downsized_dir, 8)\n",
    "img2_downsized_mag_histogram, img2_downsized_occ_histogram = orientation_histogram(img2_downsized_gm, img2_downsized_dir, 8)"
   ]
  },
  {
   "cell_type": "code",
   "execution_count": null,
   "metadata": {},
   "outputs": [],
   "source": [
    "fig, (ax1, ax2) = plt.subplots(1, 2, figsize=(30, 20))\n",
    "ax1.imshow(img1_gray, cmap='gray')\n",
    "ax2.imshow(img1_gray, cmap='gray')\n",
    "ax1.set_title(\"Flash Magnitude Histogram\")\n",
    "ax2.set_title(\"Flash Orientation Histogram\")\n",
    "\n",
    "for k in range(6):\n",
    "    x, y, u, v = generate_quiver_values(img1_mag_histogram, k, 8)\n",
    "    x, y, u, v = generate_quiver_values(img1_occ_histogram, k, 8)\n",
    "    ax1.quiver(x, y, u, v, color=\"red\", width=0.0009)\n",
    "    ax2.quiver(x, y, u, v, color=\"red\", width=0.0009)\n",
    "\n",
    "plt.savefig(output+\"/flash_histograms.png\")\n",
    "plt.show()"
   ]
  },
  {
   "cell_type": "code",
   "execution_count": null,
   "metadata": {},
   "outputs": [],
   "source": [
    "fig, (ax1, ax2) = plt.subplots(1, 2, figsize=(30, 20))\n",
    "ax1.imshow(img2_gray, cmap='gray')\n",
    "ax2.imshow(img2_gray, cmap='gray')\n",
    "ax1.set_title(\"No Flash Magnitude Histogram\")\n",
    "ax2.set_title(\"No Flash Orientation Histogram\")\n",
    "\n",
    "for k in range(6):\n",
    "    x, y, u, v = generate_quiver_values(img2_mag_histogram, k, 8)\n",
    "    x, y, u, v = generate_quiver_values(img2_occ_histogram, k, 8)\n",
    "    ax1.quiver(x, y, u, v, color=\"red\", width=0.0009)\n",
    "    ax2.quiver(x, y, u, v, color=\"red\", width=0.0009)\n",
    "\n",
    "plt.savefig(output + \"/no_flash_histograms.png\")\n",
    "plt.show()"
   ]
  },
  {
   "cell_type": "code",
   "execution_count": 97,
   "metadata": {},
   "outputs": [],
   "source": [
    "# have to downsize bc text file too large\n",
    "\n",
    "downsized_normalized_hist_img1 = normalize_histogram(img1_downsized_mag_histogram)\n",
    "downsized_normalized_hist_img2 = normalize_histogram(img2_downsized_mag_histogram)\n",
    "\n",
    "\n",
    "np.savetxt(output + '/flash.txt', downsized_normalized_hist_img1.reshape(downsized_normalized_hist_img1.shape[0], -1), fmt='%1.3f', delimiter=' ', newline='\\n')\n",
    "np.savetxt(output + '/no-flash.txt', downsized_normalized_hist_img2.reshape(downsized_normalized_hist_img2.shape[0], -1), fmt='%1.3f', delimiter=' ', newline='\\n')"
   ]
  },
  {
   "cell_type": "code",
   "execution_count": 33,
   "metadata": {},
   "outputs": [],
   "source": [
    "shape = normalized_hist_img1.shape\n",
    "grad_hist = np.zeros((shape[0], shape[1], 6))\n",
    "\n",
    "k = 1\n",
    "for i in range(shape[0]):\n",
    "    for j in range(shape[1]):\n",
    "        while k < 6:\n",
    "            sum = 0 \n",
    "            for l in range(k, 24, 4):\n",
    "                sum += normalized_hist_img1[i, j, l-1]\n",
    "            sum /= 6\n",
    "            grad_hist[i, j, k - 1] = sum\n",
    "            k += 1\n",
    "        "
   ]
  },
  {
   "cell_type": "code",
   "execution_count": null,
   "metadata": {},
   "outputs": [],
   "source": [
    "fig, (ax1, ax2) = plt.subplots(1, 2, figsize=(30, 20))\n",
    "ax1.imshow(img1_gray, cmap='gray')\n",
    "ax2.imshow(img2_gray, cmap='gray')\n",
    "ax1.set_title(\"Flash Histogram\")\n",
    "ax2.set_title(\"No Flash Histogram\")\n",
    "\n",
    "for k in range(6):\n",
    "    x, y, u, v = generate_quiver_values(grad_hist, k, 8)\n",
    "    x_1, y_1, u_1, v_1 = generate_quiver_values(grad_hist, k, 8)\n",
    "    ax1.quiver(x, y, u, v, color=\"red\", width=0.001)\n",
    "    ax2.quiver(x_1, y_1, u_1, v_1, color=\"red\", width=0.001)\n",
    "\n",
    "plt.savefig(output + '/flash_mag_histograms.png')\n",
    "plt.show()"
   ]
  },
  {
   "cell_type": "markdown",
   "metadata": {},
   "source": []
  },
  {
   "attachments": {},
   "cell_type": "markdown",
   "metadata": {},
   "source": [
    "## Question 4"
   ]
  },
  {
   "cell_type": "code",
   "execution_count": 35,
   "metadata": {},
   "outputs": [],
   "source": [
    "img1 = cv2.imread('./UC_lawn_1.jpg') # READS IN NUMPY ARRAY\n",
    "img1 = cv2.cvtColor(img1, cv2.COLOR_BGR2RGB)\n",
    "img1_gray = cv2.cvtColor(img1, cv2.COLOR_RGB2GRAY)\n",
    "\n",
    "img2 = cv2.imread('./UC_lawn_2.jpg') # READS IN NUMPY ARRAY\n",
    "img2 = cv2.cvtColor(img2, cv2.COLOR_BGR2RGB)\n",
    "img2_gray = cv2.cvtColor(img2, cv2.COLOR_RGB2GRAY)"
   ]
  },
  {
   "attachments": {},
   "cell_type": "markdown",
   "metadata": {},
   "source": [
    "### Step 1: Calculate Eigenvalues of M"
   ]
  },
  {
   "cell_type": "code",
   "execution_count": 36,
   "metadata": {},
   "outputs": [],
   "source": [
    "def eigenval_second_moment_matrix(img: np.ndarray, sigma=1) -> np.ndarray:\n",
    "    height, width = img.shape\n",
    "    # get the gradients\n",
    "    Ix = cv2.Sobel(img, cv2.CV_64F, 1, 0)\n",
    "    Iy = cv2.Sobel(img, cv2.CV_64F, 0, 1)\n",
    "\n",
    "    # Get Ix^2, Iy^2, and IxIy\n",
    "    Ix_2 = np.square(Ix)\n",
    "    Iy_2 = np.square(Iy)\n",
    "    IxIy = np.multiply(Ix, Iy)\n",
    "\n",
    "    # Convolve each one with gaussian filter\n",
    "    Ix_2 = cv2.GaussianBlur(Ix_2, (5, 5), sigma)\n",
    "    Iy_2 = cv2.GaussianBlur(Iy_2, (5, 5), sigma)\n",
    "    IxIy = cv2.GaussianBlur(IxIy, (5, 5), sigma)\n",
    "\n",
    "    # 3d array, with two slots in last dimension to store lambda_1 & lambda_2\n",
    "    # for each pixel\n",
    "    eigenvalues = np.zeros((height, width, 2))\n",
    "    for i in range(height):\n",
    "        for j in range(width):\n",
    "            N = np.array([[Ix_2[i][j], IxIy[i][j]], [IxIy[i][j], Iy_2[i][j]]])\n",
    "            e_vals = np.linalg.eigvals(N)\n",
    "            eigenvalues[i][j] = e_vals\n",
    "            \n",
    "    return eigenvalues"
   ]
  },
  {
   "cell_type": "code",
   "execution_count": 37,
   "metadata": {},
   "outputs": [],
   "source": [
    "# Eigen values for each image\n",
    "I1_e = eigenval_second_moment_matrix(img1_gray)\n",
    "I2_e = eigenval_second_moment_matrix(img2_gray)"
   ]
  },
  {
   "attachments": {},
   "cell_type": "markdown",
   "metadata": {},
   "source": [
    "### Step 2: Scatter Plots"
   ]
  },
  {
   "attachments": {},
   "cell_type": "markdown",
   "metadata": {},
   "source": [
    "### Scatter Plots"
   ]
  },
  {
   "cell_type": "code",
   "execution_count": null,
   "metadata": {},
   "outputs": [],
   "source": [
    "fig, (ax1, ax2) = plt.subplots(1, 2, figsize=(15, 5))\n",
    "img1_e1, img1_e2 = I1_e[:, :, 0], I1_e[:, :, 1]\n",
    "img2_e1, img2_e2 = I2_e[:, :, 0], I2_e[:, :, 1]\n",
    "\n",
    "ax1.set_xlabel(\"lambda 1\")\n",
    "ax1.set_ylabel(\"lambda 2\")\n",
    "ax1.set_title(\"Image 1 Eigenvalues\")\n",
    "ax1.scatter(img1_e1, img1_e2, s=0.25)\n",
    "\n",
    "ax2.set_xlabel(\"lambda 1\")\n",
    "ax2.set_ylabel(\"lambda 2\")\n",
    "ax2.set_title(\"Image 2 Eigenvalues\")\n",
    "ax2.scatter(img2_e1, img2_e2, s=0.25)\n",
    "\n",
    "plt.savefig(output + '/lawn_scatter.png')\n",
    "plt.show()"
   ]
  },
  {
   "attachments": {},
   "cell_type": "markdown",
   "metadata": {},
   "source": [
    "### Step 3: Threshold to Detect Corners"
   ]
  },
  {
   "cell_type": "code",
   "execution_count": null,
   "metadata": {},
   "outputs": [],
   "source": [
    "lambda_min_1 = np.minimum(I1_e[:, :, 0], I1_e[:, :, 1])\n",
    "lambda_min_2 = np.minimum(I2_e[:, :, 0], I2_e[:, :, 1])\n",
    "threshold = 30000\n",
    "\n",
    "\n",
    "img1[lambda_min_1 > threshold] = [255, 255, 100]\n",
    "img2[lambda_min_2 > threshold] = [255, 255, 100]\n",
    "\n",
    "\n",
    "fig, (ax1, ax2) = plt.subplots(1, 2, figsize=(15, 5))\n",
    "\n",
    "ax1.imshow(img1)\n",
    "ax2.imshow(img2)\n",
    "\n",
    "plt.savefig(output + '/lawn_corners.png')"
   ]
  },
  {
   "attachments": {},
   "cell_type": "markdown",
   "metadata": {},
   "source": [
    "### Step 4: Repeated with Larger sigma"
   ]
  },
  {
   "attachments": {},
   "cell_type": "markdown",
   "metadata": {},
   "source": [
    "#### Step 1"
   ]
  },
  {
   "cell_type": "code",
   "execution_count": 40,
   "metadata": {},
   "outputs": [],
   "source": [
    "I1_e = eigenval_second_moment_matrix(img1_gray, 12)\n",
    "I2_e = eigenval_second_moment_matrix(img2_gray, 12)"
   ]
  },
  {
   "attachments": {},
   "cell_type": "markdown",
   "metadata": {},
   "source": [
    "#### Step 2"
   ]
  },
  {
   "cell_type": "code",
   "execution_count": null,
   "metadata": {},
   "outputs": [],
   "source": [
    "fig, (ax1, ax2) = plt.subplots(1, 2, figsize=(15, 5))\n",
    "img1_e1, img1_e2 = I1_e[:, :, 0], I1_e[:, :, 1]\n",
    "img2_e1, img2_e2 = I2_e[:, :, 0], I2_e[:, :, 1]\n",
    "\n",
    "ax1.set_xlabel(\"lambda 1\")\n",
    "ax1.set_ylabel(\"lambda 2\")\n",
    "ax1.set_title(\"Image 1 Eigenvalues\")\n",
    "ax1.scatter(img1_e1, img1_e2, s=0.25)\n",
    "\n",
    "ax2.set_xlabel(\"lambda 1\")\n",
    "ax2.set_ylabel(\"lambda 2\")\n",
    "ax2.set_title(\"Image 2 Eigenvalues\")\n",
    "ax2.scatter(img2_e1, img2_e2, s=0.25)\n",
    "\n",
    "plt.savefig(output + '/large_sigma_scatter.png')\n",
    "plt.show()"
   ]
  },
  {
   "attachments": {},
   "cell_type": "markdown",
   "metadata": {},
   "source": [
    "#### Step 3"
   ]
  },
  {
   "cell_type": "code",
   "execution_count": null,
   "metadata": {},
   "outputs": [],
   "source": [
    "lambda_min_1 = np.minimum(I1_e[:, :, 0], I1_e[:, :, 1])\n",
    "lambda_min_2 = np.minimum(I2_e[:, :, 0], I2_e[:, :, 1])\n",
    "threshold = 30000\n",
    "\n",
    "\n",
    "img1[lambda_min_1 > threshold] = [255, 255, 100]\n",
    "img2[lambda_min_2 > threshold] = [255, 255, 100]\n",
    "\n",
    "\n",
    "fig, (ax1, ax2) = plt.subplots(1, 2, figsize=(15, 5))\n",
    "\n",
    "ax1.imshow(img1)\n",
    "ax2.imshow(img2)\n",
    "plt.savefig(output + '/lawn_corner_larger_sigma.png')"
   ]
  }
 ],
 "metadata": {
  "kernelspec": {
   "display_name": "Python 3",
   "language": "python",
   "name": "python3"
  },
  "language_info": {
   "codemirror_mode": {
    "name": "ipython",
    "version": 3
   },
   "file_extension": ".py",
   "mimetype": "text/x-python",
   "name": "python",
   "nbconvert_exporter": "python",
   "pygments_lexer": "ipython3",
   "version": "3.10.9"
  },
  "orig_nbformat": 4
 },
 "nbformat": 4,
 "nbformat_minor": 2
}
